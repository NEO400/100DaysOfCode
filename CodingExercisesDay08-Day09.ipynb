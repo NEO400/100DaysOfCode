{
 "cells": [
  {
   "cell_type": "code",
   "execution_count": 1,
   "metadata": {},
   "outputs": [],
   "source": [
    "# day-8-1-exercise\n",
    "# You are painting a wall. The instructions on the paint can says that 1 can of paint can cover 5 square meters of wall.\n",
    "# Given a random height and width of wall, calculate how many cans of paint you'll need to buy."
   ]
  },
  {
   "cell_type": "code",
   "execution_count": 8,
   "metadata": {},
   "outputs": [
    {
     "name": "stdout",
     "output_type": "stream",
     "text": [
      "Height of wall: 3\n",
      "Width of wall: 9\n",
      "You'll need 6 cans of paint.\n"
     ]
    }
   ],
   "source": [
    "import math\n",
    "\n",
    "def paint_calc(height, width, cover):\n",
    "    # Calculate the number of paint cans needed to paint the wall, using the formula:\n",
    "    # cans = (height * width) / cover\n",
    "    # Round up the result using the ceil() function from the math module\n",
    "    cans = math.ceil((height * width) / cover)\n",
    "    \n",
    "    # Print the number of cans needed to paint the wall\n",
    "    print(f\"You'll need {cans} cans of paint.\")\n",
    "\n",
    "# Ask the user for the height and width of the wall, and set the coverage per can to 5\n",
    "test_h = int(input(\"Height of wall: \"))\n",
    "test_w = int(input(\"Width of wall: \"))\n",
    "coverage = 5\n",
    "\n",
    "# Call the paint_calc() function with the user's inputs and the coverage\n",
    "paint_calc(height=test_h, width=test_w, cover=coverage)"
   ]
  },
  {
   "cell_type": "code",
   "execution_count": null,
   "metadata": {},
   "outputs": [],
   "source": [
    "# day-8-2-exercise\n",
    "# You need to write a function that checks whether if the number passed into it is a prime number or not.\n",
    "# e.g. 2 is a prime number because it's only divisible by 1 and 2.\n",
    "# But 4 is not a prime number because you can divide it by 1, 2 or 4."
   ]
  },
  {
   "cell_type": "code",
   "execution_count": null,
   "metadata": {},
   "outputs": [],
   "source": [
    "#Write your code below this line 👇\n",
    "\n",
    "def prime_checker(number):\n",
    "    # assuming the input is a proper non-zero natural number\n",
    "    is_prime = True\n",
    "    \n",
    "    # 1 is NOT a prime number, it's specifically excluded\n",
    "    if number == 1:\n",
    "        is_prime = False\n",
    "    # also making a special case for 2, since it's the only even prime number\n",
    "    elif number == 2:\n",
    "        # could have just used \"pass\" here, but to be explicit:\n",
    "        is_prime = True\n",
    "    else:\n",
    "        # check all other integers up to that number (but not including)\n",
    "        for num in range(2, number):\n",
    "            if number % num == 0:\n",
    "                is_prime = False\n",
    "                # no need to check the rest of the numbers, so break out of the loop\n",
    "                break\n",
    "\n",
    "    if is_prime:\n",
    "        print(\"It's a prime number.\")\n",
    "    else:\n",
    "        print(\"It's not a prime number.\")\n",
    "\n",
    "#Write your code above this line 👆\n",
    "    \n",
    "#Do NOT change any of the code below👇\n",
    "n = int(input(\"Check this number: \"))\n",
    "prime_checker(number=n)"
   ]
  },
  {
   "attachments": {},
   "cell_type": "markdown",
   "metadata": {},
   "source": [
    "# day-9-1-exercise\n",
    "# You have access to a database of student_scores in the format of a dictionary.\n",
    "# The keys in student_scores are the names of the students and the values are their exam scores.\n",
    "# Write a program that converts their scores to grades."
   ]
  },
  {
   "attachments": {},
   "cell_type": "markdown",
   "metadata": {},
   "source": [
    "student_scores = {\n",
    "  \"Harry\": 81,\n",
    "  \"Ron\": 78,\n",
    "  \"Hermione\": 99, \n",
    "  \"Draco\": 74,\n",
    "  \"Neville\": 62,\n",
    "}\n",
    "\n",
    "# Dictionary to store student grades\n",
    "student_grades = {}\n",
    "\n",
    "# Loop through each key in student_scores\n",
    "for key, value in student_scores.items():\n",
    "    \n",
    "    # Determine the grade based on the score\n",
    "    if value > 90:\n",
    "        grade = \"Outstanding\"\n",
    "    elif value > 80:\n",
    "        grade = \"Exceeds Expectations\"\n",
    "    elif value > 70:\n",
    "        grade = \"Acceptable\"\n",
    "    else:\n",
    "        grade = \"Fail\"\n",
    "    \n",
    "    # Add the key-value pair to the new dictionary\n",
    "    student_grades[key] = grade\n",
    "\n",
    "# Print the dictionary of student grades\n",
    "print(student_grades)\n"
   ]
  }
 ],
 "metadata": {
  "kernelspec": {
   "display_name": "Python 3",
   "language": "python",
   "name": "python3"
  },
  "language_info": {
   "codemirror_mode": {
    "name": "ipython",
    "version": 3
   },
   "file_extension": ".py",
   "mimetype": "text/x-python",
   "name": "python",
   "nbconvert_exporter": "python",
   "pygments_lexer": "ipython3",
   "version": "3.8.5"
  }
 },
 "nbformat": 4,
 "nbformat_minor": 4
}
