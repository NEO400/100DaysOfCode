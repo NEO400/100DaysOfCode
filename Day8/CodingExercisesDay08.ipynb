{
 "cells": [
  {
   "cell_type": "code",
   "execution_count": 1,
   "metadata": {},
   "outputs": [],
   "source": [
    "# day-8-1-exercise\n",
    "# You are painting a wall. The instructions on the paint can says that 1 can of paint can cover 5 square meters of wall.\n",
    "# Given a random height and width of wall, calculate how many cans of paint you'll need to buy."
   ]
  },
  {
   "cell_type": "code",
   "execution_count": 8,
   "metadata": {},
   "outputs": [
    {
     "name": "stdout",
     "output_type": "stream",
     "text": [
      "Height of wall: 3\n",
      "Width of wall: 9\n",
      "You'll need 6 cans of paint.\n"
     ]
    }
   ],
   "source": [
    "import math\n",
    "\n",
    "def paint_calc(height, width, cover):\n",
    "    # Calculate the number of paint cans needed to paint the wall, using the formula:\n",
    "    # cans = (height * width) / cover\n",
    "    # Round up the result using the ceil() function from the math module\n",
    "    cans = math.ceil((height * width) / cover)\n",
    "    \n",
    "    # Print the number of cans needed to paint the wall\n",
    "    print(f\"You'll need {cans} cans of paint.\")\n",
    "\n",
    "# Ask the user for the height and width of the wall, and set the coverage per can to 5\n",
    "test_h = int(input(\"Height of wall: \"))\n",
    "test_w = int(input(\"Width of wall: \"))\n",
    "coverage = 5\n",
    "\n",
    "# Call the paint_calc() function with the user's inputs and the coverage\n",
    "paint_calc(height=test_h, width=test_w, cover=coverage)"
   ]
  }
 ],
 "metadata": {
  "kernelspec": {
   "display_name": "Python 3",
   "language": "python",
   "name": "python3"
  },
  "language_info": {
   "codemirror_mode": {
    "name": "ipython",
    "version": 3
   },
   "file_extension": ".py",
   "mimetype": "text/x-python",
   "name": "python",
   "nbconvert_exporter": "python",
   "pygments_lexer": "ipython3",
   "version": "3.8.5"
  }
 },
 "nbformat": 4,
 "nbformat_minor": 4
}
