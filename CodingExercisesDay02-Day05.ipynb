{
 "cells": [
  {
   "cell_type": "code",
   "execution_count": 1,
   "metadata": {},
   "outputs": [],
   "source": [
    "# Day 2 | Exercise 1\n",
    "# Write a program that adds the digits in a 2 digit number. e.g. if the input was 35, then the output should be 3 + 5 = 8"
   ]
  },
  {
   "cell_type": "code",
   "execution_count": 6,
   "metadata": {
    "tags": []
   },
   "outputs": [
    {
     "name": "stdout",
     "output_type": "stream",
     "text": [
      "The sum of the digits is 8.\n"
     ]
    }
   ],
   "source": [
    "# This program calculates the sum of the digits of a two-digit number entered by the user\n",
    "# 🚨 Don't change the code below 👇\n",
    "# First, we prompt the user to input a two-digit number\n",
    "two_digit_number = input(\"Please enter a two-digit number: \")\n",
    "# 🚨 Don't change the code above 👆\n",
    "\n",
    "####################################\n",
    "#Write your code below this line 👇\n",
    "\n",
    "# Initialize a variable `sum` to store the sum of the digits\n",
    "sum = 0\n",
    "\n",
    "# Iterate through each character in the input string and add its integer value to the sum\n",
    "for digit in two_digit_number:\n",
    "    sum += int(digit)\n",
    "\n",
    "# Finally, we print the result\n",
    "print(f\"The sum of the digits is {sum}.\")\n"
   ]
  },
  {
   "cell_type": "code",
   "execution_count": 10,
   "metadata": {},
   "outputs": [],
   "source": [
    "# # Day 2 | Exercise 2\n",
    "# Write a program that calculates the Body Mass Index (BMI) from a user's weight and height."
   ]
  },
  {
   "cell_type": "code",
   "execution_count": 5,
   "metadata": {},
   "outputs": [
    {
     "name": "stdout",
     "output_type": "stream",
     "text": [
      "26\n"
     ]
    }
   ],
   "source": [
    "# This program calculates the body mass index (BMI) of a person\n",
    "\n",
    "\n",
    "# 🚨 Don't change the code below 👇\n",
    "# First, we prompt the user to input their height and weight\n",
    "height = input(\"Please enter your height in meters: \")\n",
    "weight = input(\"Please enter your weight in kilograms: \")\n",
    "# 🚨 Don't change the code above 👆\n",
    "\n",
    "#Write your code below this line 👇\n",
    "# Next, we calculate the BMI using the formula: BMI = weight (kg) / height^2 (m^2)\n",
    "bmi = int(weight) / float(height) ** 2\n",
    "\n",
    "# We then convert the calculated BMI to an integer for better readability\n",
    "bm_as_int = int(bmi)\n",
    "\n",
    "# Finally, we print the result\n",
    "print(\"Your BMI is:\", bm_as_int)\n",
    "\n",
    "\n"
   ]
  },
  {
   "cell_type": "code",
   "execution_count": 18,
   "metadata": {},
   "outputs": [],
   "source": [
    "# Day 2 | Exercise 3\n",
    "# Create a program using maths and f-Strings that tells us how many days, weeks, months we have left if we live\n",
    "# until 90 years old."
   ]
  },
  {
   "cell_type": "code",
   "execution_count": 8,
   "metadata": {},
   "outputs": [
    {
     "name": "stdout",
     "output_type": "stream",
     "text": [
      "You have 12410 days, 1768 weeks, and 408 months left until you reach 90 years old.\n"
     ]
    }
   ],
   "source": [
    "# This program calculates the number of days, weeks, and months remaining until a person reaches 90 years old\n",
    "\n",
    "# 🚨 Don't change the code below 👇\n",
    "# First, we prompt the user to input their current age\n",
    "Age = input(\"What is your current age? \")\n",
    "# 🚨 Don't change the code above 👆\n",
    "\n",
    "#Write your code below this line 👇\n",
    "# Convert the input string to an integer\n",
    "age_as_int = int(Age)\n",
    "\n",
    "# Calculate the number of years remaining until the person reaches 90 years old\n",
    "years_remaining = 90 - age_as_int\n",
    "\n",
    "# Calculate the number of days, weeks, and months remaining using the following conversions:\n",
    "# 1 year = 365 days\n",
    "# 1 year = 52 weeks\n",
    "# 1 year = 12 months\n",
    "days_remaining = years_remaining * 365 \n",
    "weeks_remaining = years_remaining * 52\n",
    "months_remaining = years_remaining * 12\n",
    "\n",
    "# Create a message to print the results\n",
    "message = f\"You have {days_remaining} days, {weeks_remaining} weeks, and {months_remaining} months left until you reach 90 years old.\"\n",
    "\n",
    "# Finally, we print the message\n",
    "print(message)"
   ]
  },
  {
   "cell_type": "markdown",
   "metadata": {},
   "source": [
    "---"
   ]
  },
  {
   "cell_type": "code",
   "execution_count": 1,
   "metadata": {},
   "outputs": [],
   "source": [
    "# Day 3 | Exercise 1\n",
    "# Write a program that works out whether if a given number is an odd or even number."
   ]
  },
  {
   "cell_type": "code",
   "execution_count": 9,
   "metadata": {},
   "outputs": [
    {
     "name": "stdout",
     "output_type": "stream",
     "text": [
      "This is an odd number.\n"
     ]
    }
   ],
   "source": [
    "# This program determines whether a number entered by the user is even or odd\n",
    "\n",
    "\n",
    "# 🚨 Don't change the code below 👇\n",
    "# First, we prompt the user to input a number\n",
    "number = int(input(\"Which number do you want to check? \"))\n",
    "# 🚨 Don't change the code above 👆\n",
    "\n",
    "#Write your code below this line 👇\n",
    "# Check if the number is odd by checking if its remainder when divided by 2 is greater than or equal to 1\n",
    "if number % 2 >= 1:\n",
    "    print(\"This is an odd number.\")\n",
    "# If the remainder is less than 1, the number is even\n",
    "else:\n",
    "    print(\"This is an even number.\")"
   ]
  },
  {
   "cell_type": "code",
   "execution_count": 4,
   "metadata": {},
   "outputs": [],
   "source": [
    "# Day 3 | Exercise 2\n",
    "# Write a program that interprets the Body Mass Index (BMI) based on a user's weight and height. (BMI Calculator 2.0)"
   ]
  },
  {
   "cell_type": "code",
   "execution_count": 10,
   "metadata": {},
   "outputs": [
    {
     "name": "stdout",
     "output_type": "stream",
     "text": [
      "Your BMI is 0. You are underweight.\n"
     ]
    }
   ],
   "source": [
    "# This program calculates a person's BMI (Body Mass Index) based on their height and weight\n",
    "\n",
    "# 🚨 Don't change the code below 👇\n",
    "# First, we prompt the user to input their height in meters\n",
    "height = float(input(\"Enter your height in meters: \"))\n",
    "# Then, we prompt the user to input their weight in kilograms\n",
    "weight = float(input(\"Enter your weight in kilograms: \"))\n",
    "# 🚨 Don't change the code above 👆\n",
    "\n",
    "#Write your code below this line 👇\n",
    "# Calculate the person's BMI using the following formula:\n",
    "bmi = round(weight / height ** 2)\n",
    "\n",
    "# Check the person's BMI against different categories\n",
    "if bmi < 18.5:\n",
    "    print(f\"Your BMI is {bmi}. You are underweight.\")\n",
    "elif bmi < 25:\n",
    "    print(f\"Your BMI is {bmi}. You have a normal weight.\")\n",
    "elif bmi < 30:\n",
    "    print(f\"Your BMI is {bmi}. You are slightly overweight.\")\n",
    "elif bmi < 35:\n",
    "    print(f\"Your BMI is {bmi}. You are obese.\")\n",
    "else:\n",
    "    print(f\"Your BMI is {bmi}. You are clinically obese.\")\n"
   ]
  },
  {
   "cell_type": "code",
   "execution_count": 10,
   "metadata": {},
   "outputs": [],
   "source": [
    "# Day 3 | Exercise 3\n",
    "# Write a program that works out whether if a given year is a leap year. A normal year has 365 days,\n",
    "# leap years have 366, with an extra day in February. "
   ]
  },
  {
   "cell_type": "code",
   "execution_count": 12,
   "metadata": {
    "scrolled": true
   },
   "outputs": [
    {
     "name": "stdout",
     "output_type": "stream",
     "text": [
      "Leap year.\n"
     ]
    }
   ],
   "source": [
    "# This program checks if a given year is a leap year or not\n",
    "\n",
    "# 🚨 Don't change the code below 👇\n",
    "# Prompt the user to input the year they want to check\n",
    "year = int(input(\"Which year do you want to check? \"))\n",
    "# 🚨 Don't change the code above 👆\n",
    "\n",
    "#Write your code below this line 👇\n",
    "# Check if the year is a leap year using the following conditions:\n",
    "if year % 4 == 0:\n",
    "    if year % 100 == 0:\n",
    "        if year % 400 == 0:\n",
    "            print(\"Leap year.\")\n",
    "        else:\n",
    "            print(\"Not a leap year.\")\n",
    "    else:\n",
    "        print(\"Leap year.\")\n",
    "else: \n",
    "    print(\"Not a leap year.\")"
   ]
  },
  {
   "cell_type": "code",
   "execution_count": 20,
   "metadata": {},
   "outputs": [],
   "source": [
    "# Day 3 | Exercise 4\n",
    "# Congratulations, you've got a job at Python Pizza. Your first job is to build an automatic pizza order program.\n",
    "# Based on a user's order, work out their final bill."
   ]
  },
  {
   "cell_type": "code",
   "execution_count": 15,
   "metadata": {},
   "outputs": [
    {
     "name": "stdout",
     "output_type": "stream",
     "text": [
      "Welcome to Python Pizza Deliveries!\n",
      "Your final bill is $25\n"
     ]
    }
   ],
   "source": [
    "print(\"Welcome to Python Pizza Deliveries!\")\n",
    "\n",
    "# 🚨 Don't change the code below 👇\n",
    "\n",
    "# Ask the user for the size of the pizza\n",
    "size = input(\"What size pizza do you want? S, M, or L \")\n",
    "\n",
    "# Ask the user if they want pepperoni toppings\n",
    "add_pepperoni = input(\"Do you want pepperoni? Y or N \")\n",
    "\n",
    "# Ask the user if they want extra cheese\n",
    "extra_cheese = input(\"Do you want extra cheese? Y or N \")\n",
    "# 🚨 Don't change the code above 👆\n",
    "\n",
    "#Write your code below this line 👇\n",
    "# Initialize the bill to 0\n",
    "bill = 0 \n",
    "\n",
    "# Add the base price of the pizza to the bill based on its size\n",
    "if size == \"S\":\n",
    "    bill += 15\n",
    "elif size == \"M\":\n",
    "    bill += 20\n",
    "else:\n",
    "    bill += 25\n",
    "\n",
    "# Add the cost of pepperoni toppings to the bill if the user wants it\n",
    "if add_pepperoni == \"Y\":\n",
    "    if size == \"S\":\n",
    "        bill += 2\n",
    "    else: \n",
    "        bill += 3\n",
    "\n",
    "# Add the cost of extra cheese to the bill if the user wants it\n",
    "if extra_cheese == \"Y\":\n",
    "    bill += 1\n",
    "\n",
    "# Print the final bill\n",
    "print(f\"Your final bill is ${bill}\")\n",
    "\n",
    "\n"
   ]
  },
  {
   "cell_type": "code",
   "execution_count": 27,
   "metadata": {},
   "outputs": [],
   "source": [
    "# Day 3 | Exercise 5\n",
    "# You are going to write a program that tests the compatibility between two people."
   ]
  },
  {
   "cell_type": "code",
   "execution_count": 19,
   "metadata": {},
   "outputs": [
    {
     "name": "stdout",
     "output_type": "stream",
     "text": [
      "Welcome to the Love Calculator!\n",
      "Your score is 12\n"
     ]
    }
   ],
   "source": [
    "print(\"Welcome to the Love Calculator!\")\n",
    "\n",
    "# 🚨 Don't change the code below 👇\n",
    "# Asks for the user's name and their partner's name\n",
    "name1 = input(\"What is your name? \\n\")\n",
    "name2 = input(\"What is their name? \\n\")\n",
    "# 🚨 Don't change the code above 👆\n",
    "\n",
    "#Write your code below this line 👇\n",
    "# Concatenates the names to a single string\n",
    "combined_string = name1 + name2\n",
    "\n",
    "# Converts the combined string to lowercase\n",
    "lower_case_string = combined_string.lower()\n",
    "\n",
    "# Counts the number of occurances of each character in the lowercase string\n",
    "t = lower_case_string.count(\"t\")\n",
    "r = lower_case_string.count(\"r\")\n",
    "u = lower_case_string.count(\"u\")\n",
    "e = lower_case_string.count(\"e\")\n",
    "l = lower_case_string.count(\"l\")\n",
    "o = lower_case_string.count(\"o\")\n",
    "v = lower_case_string.count(\"v\")\n",
    "\n",
    "# Calculates the score for \"true\" and \"love\"\n",
    "true = t + r + u + e\n",
    "love = l + o + v + e\n",
    "\n",
    "# Concatenates the score for \"true\" and \"love\" and converts it to an integer\n",
    "love_score = int(str(true) + str(love))\n",
    "\n",
    "# Prints the love score and message based on the score\n",
    "if (love_score < 10) or (love_score > 90):\n",
    "    print(f\"Your love score is {love_score}, you go together like coke and mentos.\")\n",
    "elif (love_score >= 40) and (love_score <=50):\n",
    "    print(f\"Your score is {love_score}, you are alright together.\")\n",
    "else:\n",
    "    print(f\"Your score is {love_score}\")\n",
    "\n"
   ]
  },
  {
   "cell_type": "markdown",
   "metadata": {},
   "source": [
    "---"
   ]
  },
  {
   "cell_type": "code",
   "execution_count": 1,
   "metadata": {},
   "outputs": [],
   "source": [
    "# Day 4 | Exercise 1\n",
    "# You are going to write a virtual coin toss program. It will randomly tell the user \"Heads\" or \"Tails\"."
   ]
  },
  {
   "cell_type": "code",
   "execution_count": 20,
   "metadata": {},
   "outputs": [
    {
     "name": "stdout",
     "output_type": "stream",
     "text": [
      "Heads\n"
     ]
    }
   ],
   "source": [
    "# Import the random module to use the randint function\n",
    "import random\n",
    "\n",
    "#Generate a random number between 0 and 1 to determine the result of the coin flip\n",
    "result = random.randint(0,1)\n",
    "\n",
    "#Print \"Heads\" if the result is 1, \"Tails\" if the result is 0\n",
    "if result == 1:\n",
    "    print(\"Heads\")\n",
    "else:\n",
    "    print(\"Tails\")"
   ]
  },
  {
   "cell_type": "code",
   "execution_count": 4,
   "metadata": {},
   "outputs": [],
   "source": [
    "# Day 4 | Exercise 2\n",
    "# You are going to write a program which will select a random name from a list of names.\n",
    "# The person selected will have to pay for everybody's food bill.\n",
    "# Important: You are not allowed to use the choice() function."
   ]
  },
  {
   "cell_type": "code",
   "execution_count": 23,
   "metadata": {},
   "outputs": [
    {
     "name": "stdout",
     "output_type": "stream",
     "text": [
      "Smith is going to buy the meal today\n"
     ]
    }
   ],
   "source": [
    "# Import the random module here\n",
    "import random\n",
    "\n",
    "# Split string method\n",
    "names_string = input(\"Give me everybody's names, separated by a comma\\. \")\n",
    "names = names_string.split(\", \")\n",
    "# 🚨 Don't change the code above 👆\n",
    "\n",
    "#Write your code below this line 👇\n",
    "num_items = len(names)\n",
    "random_choice = random.randint(0, num_items - 1)\n",
    "person_who_wil_pay = names[random_choice]\n",
    "print(person_who_wil_pay + \" is going to buy the meal today\")\n",
    "\n"
   ]
  },
  {
   "cell_type": "code",
   "execution_count": 19,
   "metadata": {},
   "outputs": [],
   "source": [
    "# day-4-3-exercise\n",
    "# You are going to write a program which will mark a spot with an X."
   ]
  },
  {
   "cell_type": "code",
   "execution_count": 1,
   "metadata": {},
   "outputs": [
    {
     "name": "stdout",
     "output_type": "stream",
     "text": [
      "['⬜️', '️⬜️', '️⬜️']\n",
      "['⬜️', '⬜️', '️⬜️']\n",
      "['⬜️️', 'X', '⬜️']\n"
     ]
    }
   ],
   "source": [
    "# 🚨 Don't change the code below 👇\n",
    "# Define the rows of the map\n",
    "row1 = [\"⬜️\",\"️⬜️\",\"️⬜️\"]\n",
    "row2 = [\"⬜️\",\"⬜️\",\"️⬜️\"]\n",
    "row3 = [\"⬜️️\",\"⬜️️\",\"⬜️\"]\n",
    "# Store the rows in the map\n",
    "map = [row1, row2, row3]\n",
    "# Print the initial map\n",
    "position = input(\"Where do you want to put the treasure? \")\n",
    "# 🚨 Don't change the code above 👆\n",
    "\n",
    "#Write your code below this row 👇\n",
    "horizonal = int(position[0])\n",
    "vertical = int(position[1])\n",
    "\n",
    "map[vertical - 1][horizonal - 1] = \"X\"\n",
    "#Write your code above this row 👆\n",
    "\n",
    "# 🚨 Don't change the code below 👇\n",
    "print(f\"{row1}\\n{row2}\\n{row3}\")\n"
   ]
  },
  {
   "cell_type": "markdown",
   "metadata": {},
   "source": [
    "---"
   ]
  }
 ],
 "metadata": {
  "kernelspec": {
   "display_name": "Python 3",
   "language": "python",
   "name": "python3"
  },
  "language_info": {
   "codemirror_mode": {
    "name": "ipython",
    "version": 3
   },
   "file_extension": ".py",
   "mimetype": "text/x-python",
   "name": "python",
   "nbconvert_exporter": "python",
   "pygments_lexer": "ipython3",
   "version": "3.11.1"
  },
  "vscode": {
   "interpreter": {
    "hash": "aee8b7b246df8f9039afb4144a1f6fd8d2ca17a180786b69acc140d282b71a49"
   }
  }
 },
 "nbformat": 4,
 "nbformat_minor": 4
}
